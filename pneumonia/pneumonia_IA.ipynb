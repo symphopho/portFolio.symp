{
 "cells": [
  {
   "cell_type": "code",
   "execution_count": 1,
   "metadata": {},
   "outputs": [
    {
     "name": "stdout",
     "output_type": "stream",
     "text": [
      "Defaulting to user installation because normal site-packages is not writeable\n",
      "Collecting pylibjpeg\n",
      "  Downloading pylibjpeg-2.0.1-py3-none-any.whl.metadata (7.8 kB)\n",
      "Collecting pylibjpeg-libjpeg\n",
      "  Downloading pylibjpeg_libjpeg-2.3.0-cp313-cp313-win_amd64.whl.metadata (4.8 kB)\n",
      "Collecting gdcm\n",
      "  Downloading gdcm-1.1-py3-none-win_amd64.whl.metadata (166 bytes)\n",
      "Requirement already satisfied: numpy in c:\\users\\symph\\appdata\\local\\packages\\pythonsoftwarefoundation.python.3.13_qbz5n2kfra8p0\\localcache\\local-packages\\python313\\site-packages (from pylibjpeg) (2.2.1)\n",
      "Downloading pylibjpeg-2.0.1-py3-none-any.whl (24 kB)\n",
      "Downloading pylibjpeg_libjpeg-2.3.0-cp313-cp313-win_amd64.whl (743 kB)\n",
      "   ---------------------------------------- 0.0/743.8 kB ? eta -:--:--\n",
      "   ---------------------------------------- 743.8/743.8 kB 5.7 MB/s eta 0:00:00\n",
      "Downloading gdcm-1.1-py3-none-win_amd64.whl (4.0 MB)\n",
      "   ---------------------------------------- 0.0/4.0 MB ? eta -:--:--\n",
      "   ------------- -------------------------- 1.3/4.0 MB 7.3 MB/s eta 0:00:01\n",
      "   ---------------------------- ----------- 2.9/4.0 MB 7.2 MB/s eta 0:00:01\n",
      "   ---------------------------------------  3.9/4.0 MB 6.5 MB/s eta 0:00:01\n",
      "   ---------------------------------------- 4.0/4.0 MB 6.0 MB/s eta 0:00:00\n",
      "Installing collected packages: gdcm, pylibjpeg-libjpeg, pylibjpeg\n",
      "Successfully installed gdcm-1.1 pylibjpeg-2.0.1 pylibjpeg-libjpeg-2.3.0\n",
      "Note: you may need to restart the kernel to use updated packages.\n"
     ]
    }
   ],
   "source": [
    "pip install pylibjpeg pylibjpeg-libjpeg gdcm\n"
   ]
  },
  {
   "cell_type": "code",
   "execution_count": 2,
   "metadata": {},
   "outputs": [],
   "source": [
    "import matplotlib.pyplot as plt\n",
    "import numpy as np"
   ]
  },
  {
   "cell_type": "code",
   "execution_count": 5,
   "metadata": {},
   "outputs": [
    {
     "name": "stdout",
     "output_type": "stream",
     "text": [
      "Defaulting to user installation because normal site-packages is not writeable\n",
      "Collecting kaggle\n",
      "  Downloading kaggle-1.6.17.tar.gz (82 kB)\n",
      "  Installing build dependencies: started\n",
      "  Installing build dependencies: finished with status 'done'\n",
      "  Getting requirements to build wheel: started\n",
      "  Getting requirements to build wheel: finished with status 'done'\n",
      "  Preparing metadata (pyproject.toml): started\n",
      "  Preparing metadata (pyproject.toml): finished with status 'done'\n",
      "Requirement already satisfied: six>=1.10 in c:\\users\\symph\\appdata\\local\\packages\\pythonsoftwarefoundation.python.3.13_qbz5n2kfra8p0\\localcache\\local-packages\\python313\\site-packages (from kaggle) (1.17.0)\n",
      "Requirement already satisfied: certifi>=2023.7.22 in c:\\users\\symph\\appdata\\local\\packages\\pythonsoftwarefoundation.python.3.13_qbz5n2kfra8p0\\localcache\\local-packages\\python313\\site-packages (from kaggle) (2024.12.14)\n",
      "Requirement already satisfied: python-dateutil in c:\\users\\symph\\appdata\\local\\packages\\pythonsoftwarefoundation.python.3.13_qbz5n2kfra8p0\\localcache\\local-packages\\python313\\site-packages (from kaggle) (2.9.0.post0)\n",
      "Requirement already satisfied: requests in c:\\users\\symph\\appdata\\local\\packages\\pythonsoftwarefoundation.python.3.13_qbz5n2kfra8p0\\localcache\\local-packages\\python313\\site-packages (from kaggle) (2.32.3)\n",
      "Collecting tqdm (from kaggle)\n",
      "  Downloading tqdm-4.67.1-py3-none-any.whl.metadata (57 kB)\n",
      "Collecting python-slugify (from kaggle)\n",
      "  Downloading python_slugify-8.0.4-py2.py3-none-any.whl.metadata (8.5 kB)\n",
      "Requirement already satisfied: urllib3 in c:\\users\\symph\\appdata\\local\\packages\\pythonsoftwarefoundation.python.3.13_qbz5n2kfra8p0\\localcache\\local-packages\\python313\\site-packages (from kaggle) (2.3.0)\n",
      "Requirement already satisfied: bleach in c:\\users\\symph\\appdata\\local\\packages\\pythonsoftwarefoundation.python.3.13_qbz5n2kfra8p0\\localcache\\local-packages\\python313\\site-packages (from kaggle) (6.2.0)\n",
      "Requirement already satisfied: webencodings in c:\\users\\symph\\appdata\\local\\packages\\pythonsoftwarefoundation.python.3.13_qbz5n2kfra8p0\\localcache\\local-packages\\python313\\site-packages (from bleach->kaggle) (0.5.1)\n",
      "Collecting text-unidecode>=1.3 (from python-slugify->kaggle)\n",
      "  Downloading text_unidecode-1.3-py2.py3-none-any.whl.metadata (2.4 kB)\n",
      "Requirement already satisfied: charset-normalizer<4,>=2 in c:\\users\\symph\\appdata\\local\\packages\\pythonsoftwarefoundation.python.3.13_qbz5n2kfra8p0\\localcache\\local-packages\\python313\\site-packages (from requests->kaggle) (3.4.1)\n",
      "Requirement already satisfied: idna<4,>=2.5 in c:\\users\\symph\\appdata\\local\\packages\\pythonsoftwarefoundation.python.3.13_qbz5n2kfra8p0\\localcache\\local-packages\\python313\\site-packages (from requests->kaggle) (3.10)\n",
      "Requirement already satisfied: colorama in c:\\users\\symph\\appdata\\local\\packages\\pythonsoftwarefoundation.python.3.13_qbz5n2kfra8p0\\localcache\\local-packages\\python313\\site-packages (from tqdm->kaggle) (0.4.6)\n",
      "Downloading python_slugify-8.0.4-py2.py3-none-any.whl (10 kB)\n",
      "Downloading tqdm-4.67.1-py3-none-any.whl (78 kB)\n",
      "Downloading text_unidecode-1.3-py2.py3-none-any.whl (78 kB)\n",
      "Building wheels for collected packages: kaggle\n",
      "  Building wheel for kaggle (pyproject.toml): started\n",
      "  Building wheel for kaggle (pyproject.toml): finished with status 'done'\n",
      "  Created wheel for kaggle: filename=kaggle-1.6.17-py3-none-any.whl size=105854 sha256=56f2d2ed6afbb634a0509efaf92878671a10af5ebefab3cdacf6840b8c79df8a\n",
      "  Stored in directory: c:\\users\\symph\\appdata\\local\\packages\\pythonsoftwarefoundation.python.3.13_qbz5n2kfra8p0\\localcache\\local\\pip\\cache\\wheels\\93\\6e\\87\\6d3385c22c1284be8161dfa643c4a58009b8ee4f0ea9ca54ff\n",
      "Successfully built kaggle\n",
      "Installing collected packages: text-unidecode, tqdm, python-slugify, kaggle\n",
      "Successfully installed kaggle-1.6.17 python-slugify-8.0.4 text-unidecode-1.3 tqdm-4.67.1\n",
      "Note: you may need to restart the kernel to use updated packages.\n"
     ]
    }
   ],
   "source": [
    "pip install kaggle"
   ]
  },
  {
   "cell_type": "code",
   "execution_count": 15,
   "metadata": {},
   "outputs": [
    {
     "name": "stdout",
     "output_type": "stream",
     "text": [
      "Note: you may need to restart the kernel to use updated packages.\n",
      "Defaulting to user installation because normal site-packages is not writeable\n"
     ]
    },
    {
     "name": "stderr",
     "output_type": "stream",
     "text": [
      "ERROR: Could not find a version that satisfies the requirement tensorflow (from versions: none)\n",
      "ERROR: No matching distribution found for tensorflow\n"
     ]
    }
   ],
   "source": [
    "pip install tensorflow"
   ]
  },
  {
   "cell_type": "code",
   "execution_count": 39,
   "metadata": {},
   "outputs": [],
   "source": [
    "import os\n",
    "import matplotlib.pyplot as plt\n"
   ]
  },
  {
   "cell_type": "code",
   "execution_count": 10,
   "metadata": {},
   "outputs": [
    {
     "name": "stdout",
     "output_type": "stream",
     "text": [
      "Defaulting to user installation because normal site-packages is not writeable\n",
      "Note: you may need to restart the kernel to use updated packages.\n"
     ]
    },
    {
     "name": "stderr",
     "output_type": "stream",
     "text": [
      "ERROR: Could not find a version that satisfies the requirement cv2 (from versions: none)\n",
      "ERROR: No matching distribution found for cv2\n"
     ]
    }
   ],
   "source": [
    "pip install cv2"
   ]
  },
  {
   "cell_type": "code",
   "execution_count": 20,
   "metadata": {},
   "outputs": [
    {
     "ename": "ModuleNotFoundError",
     "evalue": "No module named 'Tensorflow'",
     "output_type": "error",
     "traceback": [
      "\u001b[1;31m---------------------------------------------------------------------------\u001b[0m",
      "\u001b[1;31mModuleNotFoundError\u001b[0m                       Traceback (most recent call last)",
      "Cell \u001b[1;32mIn[20], line 1\u001b[0m\n\u001b[1;32m----> 1\u001b[0m \u001b[38;5;28;01mimport\u001b[39;00m\u001b[38;5;250m \u001b[39m\u001b[38;5;21;01mTensorflow\u001b[39;00m\u001b[38;5;250m \u001b[39m\u001b[38;5;28;01mas\u001b[39;00m\u001b[38;5;250m \u001b[39m\u001b[38;5;21;01mtf\u001b[39;00m\n\u001b[0;32m      2\u001b[0m \u001b[38;5;28mprint\u001b[39m(tf\u001b[38;5;241m.\u001b[39m__version__)\n",
      "\u001b[1;31mModuleNotFoundError\u001b[0m: No module named 'Tensorflow'"
     ]
    }
   ],
   "source": [
    "import Tensorflow as tf\n",
    "print(tf.__version__)"
   ]
  },
  {
   "cell_type": "code",
   "execution_count": 1,
   "metadata": {},
   "outputs": [],
   "source": [
    "import os \n",
    "data_dir = \"dataset\"\n",
    "train_dir = os.path.join(data_dir, \"train\")\n",
    "test_dir = os.path.join(data_dir, \"test\")"
   ]
  },
  {
   "cell_type": "code",
   "execution_count": 3,
   "metadata": {},
   "outputs": [],
   "source": [
    "data_dir = \"path/to/test\"\n",
    "\n"
   ]
  },
  {
   "cell_type": "code",
   "execution_count": 28,
   "metadata": {},
   "outputs": [],
   "source": [
    "data_dir = \"C:\\\\Users\\\\symph\\\\OneDrive\\\\Документы\""
   ]
  },
  {
   "cell_type": "code",
   "execution_count": 32,
   "metadata": {},
   "outputs": [],
   "source": [
    "data_dir = \"C:\\\\Users\\\\symph\\\\OneDrive\\\\Документы\"\n",
    "train_dir = os.path.join(data_dir, \"train\")\n",
    "class_1_dir = os.path.join(train_dir, \"test\")"
   ]
  },
  {
   "cell_type": "code",
   "execution_count": 29,
   "metadata": {},
   "outputs": [],
   "source": [
    "train_dir  = \"C:\\\\Users\\\\symph\\\\OneDrive\\\\Документы\"\n",
    "test_dir = \"C:\\\\Users\\\\symph\\\\OneDrive\\\\Документы\"\n"
   ]
  },
  {
   "cell_type": "code",
   "execution_count": 33,
   "metadata": {},
   "outputs": [
    {
     "name": "stdout",
     "output_type": "stream",
     "text": [
      "Dossier train : ['desktop.ini', 'Devoir de marketing digital.docx', 'devoir final', 'exo', 'IA', 'Modèles Office personnalisés', 'Mon dossier Tableau', 'pneumonia', 'Power BI Desktop', 'power platform.pbix', 'salle', 'seanceF', 'test', 'train', 'Visual Studio 2022']\n",
      "Dossier test : ['desktop.ini', 'Devoir de marketing digital.docx', 'devoir final', 'exo', 'IA', 'Modèles Office personnalisés', 'Mon dossier Tableau', 'pneumonia', 'Power BI Desktop', 'power platform.pbix', 'salle', 'seanceF', 'test', 'train', 'Visual Studio 2022']\n"
     ]
    }
   ],
   "source": [
    "import os\n",
    "\n",
    "# Définir les chemins des répertoires\n",
    "train_dir = \"C:\\\\Users\\\\symph\\\\OneDrive\\\\Документы\"\n",
    "test_dir = \"C:\\\\Users\\\\symph\\\\OneDrive\\\\Документы\"\n",
    "\n",
    "# Vérifier et afficher le contenu des répertoires\n",
    "if os.path.exists(train_dir):\n",
    "    print(f\"Dossier train : {os.listdir(train_dir)}\")\n",
    "else:\n",
    "    print(f\"Le chemin {train_dir} n'existe pas\")\n",
    "\n",
    "if os.path.exists(test_dir):\n",
    "    print(f\"Dossier test : {os.listdir(test_dir)}\")\n",
    "else:\n",
    "    print(f\"Le chemin {test_dir} n'existe pas\")\n"
   ]
  },
  {
   "cell_type": "code",
   "execution_count": 34,
   "metadata": {},
   "outputs": [],
   "source": [
    "import os\n",
    "from PIL import Image\n",
    "\n",
    "# Définir les chemins des répertoires\n",
    "train_dir = \"C:\\\\Users\\\\symph\\\\OneDrive\\\\Документы\"\n",
    "test_dir = \"C:\\\\Users\\\\symph\\\\OneDrive\\\\Документы\"\n",
    "\n",
    "# Fonction pour lire et afficher les images dans un répertoire\n",
    "def afficher_images(directory):\n",
    "    if os.path.exists(directory):\n",
    "        for filename in os.listdir(directory):\n",
    "            if filename.endswith((\".jpg\", \".jpeg\", \".png\")):  # Ajuste les extensions selon les formats d'image que tu utilises\n",
    "                image_path = os.path.join(directory, filename)\n",
    "                image = Image.open(image_path)\n",
    "                image.show()\n",
    "            else:\n",
    "                continue\n",
    "    else:\n",
    "        print(f\"Le chemin {directory} n'existe pas\")\n",
    "\n",
    "# Lire et afficher les images dans les répertoires train et test\n",
    "afficher_images(train_dir)\n",
    "afficher_images(test_dir)\n"
   ]
  },
  {
   "cell_type": "code",
   "execution_count": 35,
   "metadata": {},
   "outputs": [
    {
     "name": "stdout",
     "output_type": "stream",
     "text": [
      "Defaulting to user installation because normal site-packages is not writeable\n",
      "Requirement already satisfied: Pillow in c:\\users\\symph\\appdata\\local\\packages\\pythonsoftwarefoundation.python.3.13_qbz5n2kfra8p0\\localcache\\local-packages\\python313\\site-packages (11.1.0)\n",
      "Note: you may need to restart the kernel to use updated packages.\n"
     ]
    }
   ],
   "source": [
    "pip install Pillow"
   ]
  },
  {
   "cell_type": "code",
   "execution_count": 17,
   "metadata": {},
   "outputs": [
    {
     "name": "stdout",
     "output_type": "stream",
     "text": [
      "Defaulting to user installation because normal site-packages is not writeableNote: you may need to restart the kernel to use updated packages.\n",
      "\n"
     ]
    },
    {
     "name": "stderr",
     "output_type": "stream",
     "text": [
      "ERROR: Invalid requirement: 'tensorflow==2.7.0.': Expected end or semicolon (after version specifier)\n",
      "    tensorflow==2.7.0.\n",
      "              ~~~~~~~^\n"
     ]
    }
   ],
   "source": [
    "pip install tensorflow==2.7.0."
   ]
  },
  {
   "cell_type": "code",
   "execution_count": 38,
   "metadata": {},
   "outputs": [
    {
     "name": "stdout",
     "output_type": "stream",
     "text": [
      "Aucune image trouvée dans C:\\Users\\symph\\OneDrive\\Документы\n",
      "Aucune image trouvée dans C:\\Users\\symph\\OneDrive\\Документы\n"
     ]
    }
   ],
   "source": [
    "import os\n",
    "import matplotlib.pyplot as plt\n",
    "import matplotlib.image as mpimg\n",
    "\n",
    "# Définir les chemins des répertoires\n",
    "train_dir = \"C:\\\\Users\\\\symph\\\\OneDrive\\\\Документы\"\n",
    "test_dir = \"C:\\\\Users\\\\symph\\\\OneDrive\\\\Документы\"\n",
    "\n",
    "# Fonction pour lire et afficher les images dans un répertoire\n",
    "def afficher_images(directory):\n",
    "    if os.path.exists(directory):\n",
    "        images = [f for f in os.listdir(directory) if f.endswith(('.jpg', '.jpeg', '.png'))]\n",
    "        if not images:\n",
    "            print(f\"Aucune image trouvée dans {directory}\")\n",
    "            return\n",
    "        \n",
    "        for i, image_name in enumerate(images):\n",
    "            image_path = os.path.join(directory, image_name)\n",
    "            img = mpimg.imread(image_path)\n",
    "            plt.figure()\n",
    "            plt.title(image_name)\n",
    "            plt.imshow(img)\n",
    "            plt.axis('off')\n",
    "        plt.show()\n",
    "    else:\n",
    "        print(f\"Le chemin {directory} n'existe pas\")\n",
    "\n",
    "# Lire et afficher les images dans les répertoires train et test\n",
    "afficher_images(train_dir)\n",
    "afficher_images(test_dir)\n"
   ]
  }
 ],
 "metadata": {
  "kernelspec": {
   "display_name": "Python 3",
   "language": "python",
   "name": "python3"
  },
  "language_info": {
   "codemirror_mode": {
    "name": "ipython",
    "version": 3
   },
   "file_extension": ".py",
   "mimetype": "text/x-python",
   "name": "python",
   "nbconvert_exporter": "python",
   "pygments_lexer": "ipython3",
   "version": "3.13.1"
  }
 },
 "nbformat": 4,
 "nbformat_minor": 2
}
