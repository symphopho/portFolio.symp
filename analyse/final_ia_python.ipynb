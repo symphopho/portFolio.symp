{
 "cells": [
  {
   "cell_type": "code",
   "execution_count": 1,
   "metadata": {},
   "outputs": [],
   "source": [
    "import pandas as pd\n",
    "import matplotlib as plt\n",
    "import seaborn as sns"
   ]
  },
  {
   "cell_type": "code",
   "execution_count": 2,
   "metadata": {},
   "outputs": [
    {
     "data": {
      "text/html": [
       "<div>\n",
       "<style scoped>\n",
       "    .dataframe tbody tr th:only-of-type {\n",
       "        vertical-align: middle;\n",
       "    }\n",
       "\n",
       "    .dataframe tbody tr th {\n",
       "        vertical-align: top;\n",
       "    }\n",
       "\n",
       "    .dataframe thead th {\n",
       "        text-align: right;\n",
       "    }\n",
       "</style>\n",
       "<table border=\"1\" class=\"dataframe\">\n",
       "  <thead>\n",
       "    <tr style=\"text-align: right;\">\n",
       "      <th></th>\n",
       "      <th>DEPCOM;COM;PMUN;PCAP;PTOT</th>\n",
       "    </tr>\n",
       "  </thead>\n",
       "  <tbody>\n",
       "    <tr>\n",
       "      <th>0</th>\n",
       "      <td>01001;L' Abergement-ClÃ©menciat;776;18;794</td>\n",
       "    </tr>\n",
       "    <tr>\n",
       "      <th>1</th>\n",
       "      <td>01002;L' Abergement-de-Varey;248;1;249</td>\n",
       "    </tr>\n",
       "    <tr>\n",
       "      <th>2</th>\n",
       "      <td>01004;AmbÃ©rieu-en-Bugey;14035;393;14428</td>\n",
       "    </tr>\n",
       "    <tr>\n",
       "      <th>3</th>\n",
       "      <td>01005;AmbÃ©rieux-en-Dombes;1689;34;1723</td>\n",
       "    </tr>\n",
       "    <tr>\n",
       "      <th>4</th>\n",
       "      <td>01006;AmblÃ©on;111;6;117</td>\n",
       "    </tr>\n",
       "    <tr>\n",
       "      <th>...</th>\n",
       "      <td>...</td>\n",
       "    </tr>\n",
       "    <tr>\n",
       "      <th>34990</th>\n",
       "      <td>97419;Sainte-Rose;6418;79;6497</td>\n",
       "    </tr>\n",
       "    <tr>\n",
       "      <th>34991</th>\n",
       "      <td>97420;Sainte-Suzanne;23505;199;23704</td>\n",
       "    </tr>\n",
       "    <tr>\n",
       "      <th>34992</th>\n",
       "      <td>97421;Salazie;7312;75;7387</td>\n",
       "    </tr>\n",
       "    <tr>\n",
       "      <th>34993</th>\n",
       "      <td>97422;Le Tampon;78629;1076;79705</td>\n",
       "    </tr>\n",
       "    <tr>\n",
       "      <th>34994</th>\n",
       "      <td>97423;Les Trois-Bassins;7139;95;7234</td>\n",
       "    </tr>\n",
       "  </tbody>\n",
       "</table>\n",
       "<p>34995 rows × 1 columns</p>\n",
       "</div>"
      ],
      "text/plain": [
       "                        DEPCOM;COM;PMUN;PCAP;PTOT\n",
       "0      01001;L' Abergement-ClÃ©menciat;776;18;794\n",
       "1          01002;L' Abergement-de-Varey;248;1;249\n",
       "2        01004;AmbÃ©rieu-en-Bugey;14035;393;14428\n",
       "3         01005;AmbÃ©rieux-en-Dombes;1689;34;1723\n",
       "4                        01006;AmblÃ©on;111;6;117\n",
       "...                                           ...\n",
       "34990              97419;Sainte-Rose;6418;79;6497\n",
       "34991        97420;Sainte-Suzanne;23505;199;23704\n",
       "34992                  97421;Salazie;7312;75;7387\n",
       "34993            97422;Le Tampon;78629;1076;79705\n",
       "34994        97423;Les Trois-Bassins;7139;95;7234\n",
       "\n",
       "[34995 rows x 1 columns]"
      ]
     },
     "execution_count": 2,
     "metadata": {},
     "output_type": "execute_result"
    }
   ],
   "source": [
    "df = pd.read_csv('Annexe_ Communes .csv',encoding='latin1')\n",
    "df"
   ]
  },
  {
   "cell_type": "code",
   "execution_count": 3,
   "metadata": {},
   "outputs": [
    {
     "data": {
      "text/plain": [
       "Index(['DEPCOM;COM;PMUN;PCAP;PTOT'], dtype='object')"
      ]
     },
     "execution_count": 3,
     "metadata": {},
     "output_type": "execute_result"
    }
   ],
   "source": [
    "df.columns"
   ]
  },
  {
   "cell_type": "code",
   "execution_count": 4,
   "metadata": {},
   "outputs": [
    {
     "data": {
      "text/html": [
       "<div>\n",
       "<style scoped>\n",
       "    .dataframe tbody tr th:only-of-type {\n",
       "        vertical-align: middle;\n",
       "    }\n",
       "\n",
       "    .dataframe tbody tr th {\n",
       "        vertical-align: top;\n",
       "    }\n",
       "\n",
       "    .dataframe thead th {\n",
       "        text-align: right;\n",
       "    }\n",
       "</style>\n",
       "<table border=\"1\" class=\"dataframe\">\n",
       "  <thead>\n",
       "    <tr style=\"text-align: right;\">\n",
       "      <th></th>\n",
       "      <th>DEPCOM;COM;PMUN;PCAP;PTOT</th>\n",
       "    </tr>\n",
       "  </thead>\n",
       "  <tbody>\n",
       "    <tr>\n",
       "      <th>0</th>\n",
       "      <td>01001;L' Abergement-ClÃ©menciat;776;18;794</td>\n",
       "    </tr>\n",
       "    <tr>\n",
       "      <th>1</th>\n",
       "      <td>01002;L' Abergement-de-Varey;248;1;249</td>\n",
       "    </tr>\n",
       "    <tr>\n",
       "      <th>2</th>\n",
       "      <td>01004;AmbÃ©rieu-en-Bugey;14035;393;14428</td>\n",
       "    </tr>\n",
       "    <tr>\n",
       "      <th>3</th>\n",
       "      <td>01005;AmbÃ©rieux-en-Dombes;1689;34;1723</td>\n",
       "    </tr>\n",
       "    <tr>\n",
       "      <th>4</th>\n",
       "      <td>01006;AmblÃ©on;111;6;117</td>\n",
       "    </tr>\n",
       "  </tbody>\n",
       "</table>\n",
       "</div>"
      ],
      "text/plain": [
       "                    DEPCOM;COM;PMUN;PCAP;PTOT\n",
       "0  01001;L' Abergement-ClÃ©menciat;776;18;794\n",
       "1      01002;L' Abergement-de-Varey;248;1;249\n",
       "2    01004;AmbÃ©rieu-en-Bugey;14035;393;14428\n",
       "3     01005;AmbÃ©rieux-en-Dombes;1689;34;1723\n",
       "4                    01006;AmblÃ©on;111;6;117"
      ]
     },
     "execution_count": 4,
     "metadata": {},
     "output_type": "execute_result"
    }
   ],
   "source": [
    "df.head()"
   ]
  },
  {
   "cell_type": "code",
   "execution_count": 5,
   "metadata": {},
   "outputs": [
    {
     "data": {
      "text/plain": [
       "1"
      ]
     },
     "execution_count": 5,
     "metadata": {},
     "output_type": "execute_result"
    }
   ],
   "source": [
    "df.shape[1]"
   ]
  },
  {
   "cell_type": "code",
   "execution_count": 6,
   "metadata": {},
   "outputs": [
    {
     "data": {
      "text/plain": [
       "34995"
      ]
     },
     "execution_count": 6,
     "metadata": {},
     "output_type": "execute_result"
    }
   ],
   "source": [
    "df.shape[0]"
   ]
  },
  {
   "cell_type": "code",
   "execution_count": 7,
   "metadata": {},
   "outputs": [
    {
     "data": {
      "text/plain": [
       "DEPCOM;COM;PMUN;PCAP;PTOT    0\n",
       "dtype: int64"
      ]
     },
     "execution_count": 7,
     "metadata": {},
     "output_type": "execute_result"
    }
   ],
   "source": [
    "df.isnull().sum()"
   ]
  },
  {
   "cell_type": "code",
   "execution_count": 8,
   "metadata": {},
   "outputs": [
    {
     "data": {
      "text/plain": [
       "np.int64(0)"
      ]
     },
     "execution_count": 8,
     "metadata": {},
     "output_type": "execute_result"
    }
   ],
   "source": [
    "df.duplicated().sum()"
   ]
  },
  {
   "cell_type": "code",
   "execution_count": 10,
   "metadata": {},
   "outputs": [],
   "source": [
    "df=df.drop_duplicates()"
   ]
  },
  {
   "cell_type": "code",
   "execution_count": 13,
   "metadata": {},
   "outputs": [],
   "source": [
    "\n",
    "df = pd.read_csv('Annexe_ Communes .csv', sep=\";\")"
   ]
  },
  {
   "cell_type": "code",
   "execution_count": 14,
   "metadata": {},
   "outputs": [
    {
     "name": "stdout",
     "output_type": "stream",
     "text": [
      "Index(['DEPCOM', 'COM', 'PMUN', 'PCAP', 'PTOT'], dtype='object')\n"
     ]
    }
   ],
   "source": [
    "print(df.columns)"
   ]
  },
  {
   "cell_type": "code",
   "execution_count": 17,
   "metadata": {},
   "outputs": [
    {
     "name": "stdout",
     "output_type": "stream",
     "text": [
      "nombre de communes avec une population > 100: 2294\n"
     ]
    }
   ],
   "source": [
    "communes_pcap = df[df['PCAP'] > 100].shape[0]\n",
    "print(\"nombre de communes avec une population > 100:\", communes_pcap)\n"
   ]
  },
  {
   "cell_type": "code",
   "execution_count": 20,
   "metadata": {},
   "outputs": [
    {
     "name": "stdout",
     "output_type": "stream",
     "text": [
      "Les cinq communes les plus peuplées :       DEPCOM          COM    PMUN  PCAP    PTOT\n",
      "11831  31555     Toulouse  479553  5256  484809\n",
      "1958   06088         Nice  340017  2962  342979\n",
      "16332  44109       Nantes  309346  5157  314503\n",
      "13035  34172  Montpellier  285121  3479  288600\n",
      "26571  67482   Strasbourg  280966  2779  283745\n"
     ]
    }
   ],
   "source": [
    "cinq_communes = df.sort_values(by=\"PTOT\", ascending=False).head(5)\n",
    "print(\"Les cinq communes les plus peuplées :\", cinq_communes)\n",
    "\n",
    "                               "
   ]
  },
  {
   "cell_type": "code",
   "execution_count": 45,
   "metadata": {},
   "outputs": [
    {
     "name": "stdout",
     "output_type": "stream",
     "text": [
      "Proportion de communes avec une population municipale > 10 000 habitants : 2.97%\n"
     ]
    }
   ],
   "source": [
    "proportion_pmk10 = (df[df[\"PMUN\"] > 10000].shape[0] / df.shape[0]) * 100\n",
    "print(\"Proportion de communes avec une population municipale > 10 000 habitants : {:.2f}%\".format(proportion_pmk10))\n",
    "\n"
   ]
  },
  {
   "cell_type": "code",
   "execution_count": 44,
   "metadata": {},
   "outputs": [
    {
     "name": "stdout",
     "output_type": "stream",
     "text": [
      "part moyenne de la population comptee a part dans la population totale :2.12%\n"
     ]
    }
   ],
   "source": [
    "df[\"part_PCAP\"]= df[\"PCAP\"] / df[\"PTOT\"]\n",
    "moyenne_par_PCAP = df[\"part_PCAP\"].mean() * 100\n",
    "print(\"part moyenne de la population comptee a part dans la population totale :{:.2f}%\".format(moyenne_par_PCAP))"
   ]
  },
  {
   "cell_type": "code",
   "execution_count": 35,
   "metadata": {},
   "outputs": [
    {
     "name": "stdout",
     "output_type": "stream",
     "text": [
      "Les dix communes les plus peuplées :       DEPCOM                       COM    PMUN  PCAP    PTOT  part_PCAP\n",
      "11831  31555                  Toulouse  479553  5256  484809   0.010841\n",
      "1958   06088                      Nice  340017  2962  342979   0.008636\n",
      "16332  44109                    Nantes  309346  5157  314503   0.016397\n",
      "13035  34172               Montpellier  285121  3479  288600   0.012055\n",
      "26571  67482                Strasbourg  280966  2779  283745   0.009794\n",
      "12386  33063                  Bordeaux  254436  3368  257804   0.013064\n",
      "29311  75115  Paris 15e Arrondissement  233392  1786  235178   0.007594\n",
      "22165  59350                     Lille  232787  2055  234842   0.008751\n",
      "13425  35238                    Rennes  216815  4110  220925   0.018604\n",
      "29316  75120  Paris 20e Arrondissement  195814   925  196739   0.004702\n"
     ]
    }
   ],
   "source": [
    "dix_communes = df.sort_values(by=\"PTOT\", ascending=False).head(10)\n",
    "print(\"Les dix communes les plus peuplées :\", dix_communes)\n"
   ]
  },
  {
   "cell_type": "code",
   "execution_count": 52,
   "metadata": {},
   "outputs": [
    {
     "name": "stderr",
     "output_type": "stream",
     "text": [
      "C:\\Users\\symph\\AppData\\Local\\Temp\\ipykernel_21304\\3114972478.py:6: FutureWarning: \n",
      "\n",
      "Passing `palette` without assigning `hue` is deprecated and will be removed in v0.14.0. Assign the `y` variable to `hue` and set `legend=False` for the same effect.\n",
      "\n",
      "  sns.barplot(y=dix_communes[\"COM\"], x=dix_communes[\"PTOT\"], palette=\"coolwarm\")\n"
     ]
    },
    {
     "data": {
      "image/png": "[encoded data removed]",
      "text/plain": [
       "<Figure size 1200x600 with 1 Axes>"
      ]
     },
     "metadata": {},
     "output_type": "display_data"
    }
   ],
   "source": [
    "import matplotlib.pyplot as plt\n",
    "\n",
    "dix_communes = df.sort_values(by=\"PTOT\", ascending=False).head(10)\n",
    "\n",
    "plt.figure(figsize=(12, 6))\n",
    "sns.barplot(y=dix_communes[\"COM\"], x=dix_communes[\"PTOT\"], palette=\"coolwarm\")\n",
    "\n",
    "plt.xlabel(\"Population Totale\")\n",
    "plt.ylabel(\"Communes\")\n",
    "plt.title(\"Les dix communes les plus peuplées\")\n",
    "\n",
    "plt.show()\n"
   ]
  },
  {
   "cell_type": "code",
   "execution_count": 53,
   "metadata": {},
   "outputs": [
    {
     "name": "stdout",
     "output_type": "stream",
     "text": [
      "Les dix communes avec la plus forte proportion PCAP :\n",
      "                          COM  pro_PCAP\n",
      "13720  Saint-Cyran-du-Jambot  0.408219\n",
      "25258               Menditte  0.392097\n",
      "24208              Radinghem  0.372146\n",
      "23296       Giel-Courteilles  0.365782\n",
      "15795                 Nandax  0.363081\n",
      "18673            Somme-Vesle  0.362963\n",
      "25743        Monléon-Magnoac  0.354412\n",
      "755     Le Hérie-la-Viéville  0.344729\n",
      "12083                 Magnas  0.344444\n",
      "31299          Éclusier-Vaux  0.325000\n"
     ]
    }
   ],
   "source": [
    "df[\"pro_PCAP\"] = df[\"PCAP\"] / df[\"PTOT\"] \n",
    "top_pcap_communes = df.sort_values(by=\"pro_PCAP\", ascending=False).head(10)  \n",
    "\n",
    "print(\"Les dix communes avec la plus forte proportion PCAP :\\n\", top_pcap_communes[[\"COM\", \"pro_PCAP\"]])\n"
   ]
  },
  {
   "cell_type": "code",
   "execution_count": 54,
   "metadata": {},
   "outputs": [
    {
     "name": "stderr",
     "output_type": "stream",
     "text": [
      "C:\\Users\\symph\\AppData\\Local\\Temp\\ipykernel_21304\\1529420130.py:5: FutureWarning: \n",
      "\n",
      "Passing `palette` without assigning `hue` is deprecated and will be removed in v0.14.0. Assign the `y` variable to `hue` and set `legend=False` for the same effect.\n",
      "\n",
      "  sns.barplot(y=top_pcap_communes[\"COM\"], x=top_pcap_communes[\"PTOT\"], palette=\"magma\")\n"
     ]
    },
    {
     "data": {
      "image/png": "[encoded data removed]",
      "text/plain": [
       "<Figure size 1200x600 with 1 Axes>"
      ]
     },
     "metadata": {},
     "output_type": "display_data"
    }
   ],
   "source": [
    "top_pcap_communes = df.sort_values(by=\"pro_PCAP\", ascending=False).head(10)  \n",
    "\n",
    "\n",
    "plt.figure(figsize=(12, 6))\n",
    "sns.barplot(y=top_pcap_communes[\"COM\"], x=top_pcap_communes[\"PTOT\"], palette=\"magma\")\n",
    "\n",
    "plt.xlabel(\"Proportion de PCAP dans PTOT\")\n",
    "plt.ylabel(\"Communes\")\n",
    "plt.title(\"Les dix communes la plus forte population\")\n",
    "\n",
    "plt.show()\n"
   ]
  },
  {
   "cell_type": "code",
   "execution_count": 39,
   "metadata": {},
   "outputs": [],
   "source": [
    "df[\"diff_PMUN_PTOT\"]=  df[\"PTOT\"] - df[\"PMUN\"]"
   ]
  },
  {
   "cell_type": "code",
   "execution_count": 42,
   "metadata": {},
   "outputs": [],
   "source": [
    "moy_diff_PMUN_PTOT = df[\"diff_PMUN_PTOT\"].mean()"
   ]
  },
  {
   "cell_type": "code",
   "execution_count": 43,
   "metadata": {},
   "outputs": [
    {
     "name": "stdout",
     "output_type": "stream",
     "text": [
      "La difference moyenne entre PMUM et PTOT : 35.34%\n"
     ]
    }
   ],
   "source": [
    "print(\"La difference moyenne entre PMUM et PTOT : {:.2f}%\".format(moy_diff_PMUN_PTOT ))"
   ]
  },
  {
   "cell_type": "code",
   "execution_count": 58,
   "metadata": {},
   "outputs": [
    {
     "data": {
      "image/png": "[encoded data removed]",
      "text/plain": [
       "<Figure size 1000x600 with 1 Axes>"
      ]
     },
     "metadata": {},
     "output_type": "display_data"
    }
   ],
   "source": [
    "import matplotlib.pyplot as plt\n",
    "import seaborn as sns\n",
    "\n",
    "plt.figure(figsize=(10, 6))\n",
    "sns.histplot(df[\"diff_PMUN_PTOT\"], bins=50, kde=True, color=\"purple\")\n",
    "\n",
    "plt.axvline(df[\"diff_PMUN_PTOT\"].mean(), color=\"red\", linestyle=\"dashed\", linewidth=2, label=\"Moyenne\")\n",
    "\n",
    "plt.xlabel(\"La différence moyenne entre PMUN et PTOT\")\n",
    "plt.ylabel(\"Nombre de communes\")\n",
    "plt.title(\"Répartition de la différence entre PMUN et PTOT\")\n",
    "plt.legend()\n",
    "\n",
    "plt.show()\n"
   ]
  },
  {
   "cell_type": "code",
   "execution_count": 49,
   "metadata": {},
   "outputs": [],
   "source": [
    "communes_PMUM_eq_PTOT= df[df[\"PMUN\"] == df[\"PTOT\"]]"
   ]
  },
  {
   "cell_type": "code",
   "execution_count": 50,
   "metadata": {},
   "outputs": [
    {
     "name": "stdout",
     "output_type": "stream",
     "text": [
      "communes ou PMUM est egal  PTOT :\n",
      "                        COM  PMUN  PTOT\n",
      "20      Asnières-sur-Saône    66    66\n",
      "262               Pouillat    88    88\n",
      "264             Prémillieu    45    45\n",
      "404                Ambrief    70    70\n",
      "407            Ancienville    75    75\n",
      "...                    ...   ...   ...\n",
      "34761  Épinay-Champlâtreux    68    68\n",
      "34805           Menouville    60    60\n",
      "34835    Le Plessis-Gassot    71    71\n",
      "34864            Theuville    45    45\n",
      "34869          Vaudherland    92    92\n",
      "\n",
      "[1682 rows x 3 columns]\n"
     ]
    }
   ],
   "source": [
    "print(\"communes ou PMUM est egal  PTOT :\\n\", communes_PMUM_eq_PTOT[[\"COM\",\"PMUN\", \"PTOT\"]])"
   ]
  }
 ],
 "metadata": {
  "kernelspec": {
   "display_name": "Python 3",
   "language": "python",
   "name": "python3"
  },
  "language_info": {
   "codemirror_mode": {
    "name": "ipython",
    "version": 3
   },
   "file_extension": ".py",
   "mimetype": "text/x-python",
   "name": "python",
   "nbconvert_exporter": "python",
   "pygments_lexer": "ipython3",
   "version": "3.13.1"
  }
 },
 "nbformat": 4,
 "nbformat_minor": 2
}
